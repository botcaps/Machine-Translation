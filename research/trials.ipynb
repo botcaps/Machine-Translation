{
 "cells": [
  {
   "cell_type": "code",
   "execution_count": null,
   "metadata": {
    "vscode": {
     "languageId": "plaintext"
    }
   },
   "outputs": [],
   "source": [
    "# Create directory structure\n",
    "mkdir -p Multi30k/train/\n",
    "mkdir -p Multi30k/val/\n",
    "mkdir -p Multi30k/test/\n",
    "\n",
    "# Download the datasets using curl\n",
    "curl -O http://www.quest.dcs.shef.ac.uk/wmt16_files_mmt/training.tar.gz\n",
    "curl -O http://www.quest.dcs.shef.ac.uk/wmt16_files_mmt/validation.tar.gz\n",
    "curl -O http://www.quest.dcs.shef.ac.uk/wmt16_files_mmt/mmt16_task1_test.tar.gz\n",
    "\n",
    "# Extract the contents into respective folders\n",
    "tar -xf training.tar.gz -C Multi30k/train/\n",
    "tar -xf validation.tar.gz -C Multi30k/val/\n",
    "tar -xf mmt16_task1_test.tar.gz -C Multi30k/test/\n",
    "\n",
    "# (Optional) Clean up archive files\n",
    "rm training.tar.gz validation.tar.gz mmt16_task1_test.tar.gz\n",
    "\n",
    "echo \"✅ Multi30k dataset downloaded and extracted successfully.\"\n"
   ]
  }
 ],
 "metadata": {
  "language_info": {
   "name": "python"
  }
 },
 "nbformat": 4,
 "nbformat_minor": 2
}
